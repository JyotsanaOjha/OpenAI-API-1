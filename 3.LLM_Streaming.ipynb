{
 "cells": [
  {
   "cell_type": "markdown",
   "id": "ea5e11db-460e-4d0b-9353-2ee9d29d6e75",
   "metadata": {},
   "source": [
    "# LLM Streaming in LangChain"
   ]
  },
  {
   "cell_type": "markdown",
   "id": "46c8f9f2-ce84-4fb2-99a0-f848d6983b34",
   "metadata": {},
   "source": [
    "Streaming refers to the process of delivering the response in a continuous stream of data, instead of sending the entire response at once.\n",
    "\n",
    "This allows the user to receive the response piece by piece as it is generated, which can improve the user experience and reduce the overall latency. "
   ]
  },
  {
   "cell_type": "code",
   "execution_count": 3,
   "id": "0d4fb2e6-541d-4b2c-820e-4ccfa6dc1405",
   "metadata": {},
   "outputs": [
    {
     "name": "stdout",
     "output_type": "stream",
     "text": [
      "Note: you may need to restart the kernel to use updated packages.\n"
     ]
    }
   ],
   "source": [
    "pip install -r ./requirements.txt -q"
   ]
  },
  {
   "cell_type": "code",
   "execution_count": 4,
   "id": "fed3b724-3af6-43f0-a335-88ef5024d662",
   "metadata": {},
   "outputs": [
    {
     "data": {
      "text/plain": [
       "True"
      ]
     },
     "execution_count": 4,
     "metadata": {},
     "output_type": "execute_result"
    }
   ],
   "source": [
    "import os\n",
    "from dotenv import load_dotenv, find_dotenv\n",
    "load_dotenv(find_dotenv(), override=True)"
   ]
  },
  {
   "cell_type": "code",
   "execution_count": 5,
   "id": "01336c47-f9b4-4500-a15b-3c7d9d1ad002",
   "metadata": {},
   "outputs": [
    {
     "name": "stdout",
     "output_type": "stream",
     "text": [
      "Verse 1:\n",
      "When the road ahead seems long\n",
      "And the journey feels too tough\n",
      "Just remember to stay strong\n",
      "And never give up\n",
      "\n",
      "Chorus:\n",
      "Don't be afraid of the tough path\n",
      "Embrace the challenge, face it head on\n",
      "For in the struggle, you will find your strength\n",
      "And in the darkness, you will see the dawn\n",
      "\n",
      "Verse 2:\n",
      "There may be obstacles in your way\n",
      "And trials that you must face\n",
      "But with courage in your heart\n",
      "You can conquer any race\n",
      "\n",
      "Chorus:\n",
      "Don't be afraid of the tough path\n",
      "Embrace the challenge, face it head on\n",
      "For in the struggle, you will find your strength\n",
      "And in the darkness, you will see the dawn\n",
      "\n",
      "Bridge:\n",
      "Believe in yourself, you're capable of more\n",
      "Than you could ever imagine\n",
      "With determination and perseverance\n",
      "You can achieve anything\n",
      "\n",
      "Chorus:\n",
      "Don't be afraid of the tough path\n",
      "Embrace the challenge, face it head on\n",
      "For in the struggle, you will find your strength\n",
      "And in the darkness, you will see the dawn\n",
      "\n",
      "Outro:\n",
      "So keep moving forward, don't look back\n",
      "For the tough path will lead you to success\n",
      "With faith and courage as your guide\n",
      "You'll overcome any test.\n"
     ]
    }
   ],
   "source": [
    "from langchain_openai import ChatOpenAI\n",
    "\n",
    "llm=ChatOpenAI()\n",
    "\n",
    "prompt = 'Write an inspirational song for not being afraid of tough path.'\n",
    "\n",
    "#In the below line of code, by default, the model will return the response after completing the entire generation process.\n",
    "print(llm.invoke(prompt).content)"
   ]
  },
  {
   "cell_type": "code",
   "execution_count": 7,
   "id": "522ceb10-a856-41e2-b939-3a338e36da4b",
   "metadata": {},
   "outputs": [
    {
     "name": "stdout",
     "output_type": "stream",
     "text": [
      "Verse 1:\n",
      "When the road ahead looks rough and steep\n",
      "And the journey seems too hard to keep\n",
      "Don't give up, don't turn away\n",
      "For strength and courage will light your way\n",
      "\n",
      "Chorus:\n",
      "Don't be afraid of the tough path\n",
      "Embrace the challenge, feel the wrath\n",
      "You will conquer, you will rise\n",
      "With determination in your eyes\n",
      "\n",
      "Verse 2:\n",
      "The obstacles may seem too high\n",
      "But with faith and hope, you'll touch the sky\n",
      "Believe in yourself, trust your heart\n",
      "And you'll find the courage to restart\n",
      "\n",
      "Chorus:\n",
      "Don't be afraid of the tough path\n",
      "Embrace the challenge, feel the wrath\n",
      "You will conquer, you will rise\n",
      "With determination in your eyes\n",
      "\n",
      "Bridge:\n",
      "The tough path may bend and sway\n",
      "But you'll find strength in every way\n",
      "Keep pushing forward, don't look back\n",
      "For in the end, you'll stay on track\n",
      "\n",
      "Chorus:\n",
      "Don't be afraid of the tough path\n",
      "Embrace the challenge, feel the wrath\n",
      "You will conquer, you will rise\n",
      "With determination in your eyes\n",
      "\n",
      "Outro:\n",
      "So take a step, don't hesitate\n",
      "For greatness lies beyond the gate\n",
      "The tough path may be hard to bear\n",
      "But with courage, you'll make it there."
     ]
    }
   ],
   "source": [
    "#In the below line of code, we are enabling streaming. In this case, The model will send you pieces of the response as they are completed, rather than waiting until the entire response is finished.\n",
    "\n",
    "for chunk in llm.stream(prompt):\n",
    "    print(chunk.content, end='', flush=True)"
   ]
  },
  {
   "cell_type": "code",
   "execution_count": null,
   "id": "95541baa-c739-460a-b9b5-c2b3cf2e21e0",
   "metadata": {},
   "outputs": [],
   "source": [
    "Note: If you want token-by-token streaming, this requires native support from the LLM provider."
   ]
  }
 ],
 "metadata": {
  "kernelspec": {
   "display_name": "Python 3 (ipykernel)",
   "language": "python",
   "name": "python3"
  },
  "language_info": {
   "codemirror_mode": {
    "name": "ipython",
    "version": 3
   },
   "file_extension": ".py",
   "mimetype": "text/x-python",
   "name": "python",
   "nbconvert_exporter": "python",
   "pygments_lexer": "ipython3",
   "version": "3.11.8"
  }
 },
 "nbformat": 4,
 "nbformat_minor": 5
}
