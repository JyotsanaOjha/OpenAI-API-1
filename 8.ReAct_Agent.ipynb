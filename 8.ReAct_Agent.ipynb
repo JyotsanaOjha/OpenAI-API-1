{
 "cells": [
  {
   "cell_type": "markdown",
   "id": "0281a9c9-8a12-4344-9b97-fd3c6b35516e",
   "metadata": {},
   "source": [
    "# ReAct :- Reasoning and Acting"
   ]
  },
  {
   "cell_type": "markdown",
   "id": "bef19f68-e1de-4571-b923-1dd9635f3848",
   "metadata": {},
   "source": [
    "ReAct is a new approach that combines the reasoning(chain-of-thoughts prompting) and acting capabilities of LLMs.\n",
    "\n",
    "With ReAct, LLMs generate reasoning traces and task-specific actions in an interleaved manner. This means that the model can reason about the task and then take actions in the real world to gather more information or complete the task. This combination of reasoning and acting allows ReAct to overcome some of the limitations of existing LLMs, such as hallucinations  and error propagation."
   ]
  },
  {
   "cell_type": "markdown",
   "id": "db12afe7-16b0-4fab-9af7-4d0f1d58ad5c",
   "metadata": {},
   "source": [
    "**LangChain Agents: Tools + Chains**\n",
    "LangChain agents are one of the key components that make LangChain so useful. They take LangChain tools and chains, and combine them into one agent. "
   ]
  },
  {
   "cell_type": "markdown",
   "id": "76e3501b-cece-4029-820e-640a2018432e",
   "metadata": {},
   "source": [
    "## Creating a ReAct Agent\n",
    "The big problem when using only tools or chains is that you probably won't want to use the same tool with every query you send.\n",
    "In our previous examples, we used as tools Wikipedia or DuckDuckGo but not both. Using the **ReAct agent**, it will check the input and then decide what is the best tool to use based on the user's query.\n",
    "\n",
    "**ImportantNote**:-\n",
    "In the following cell we are installing the **langchainhub package**. The langchainhub is a hub for sharing and discovering resources related to LangChain. It stores and allows access to pre-trained prompts, chains, and agents that can be used in LangChain projects."
   ]
  },
  {
   "cell_type": "code",
   "execution_count": 1,
   "id": "f6921e5e-444a-4947-b97b-76c51b6951d5",
   "metadata": {},
   "outputs": [
    {
     "name": "stdout",
     "output_type": "stream",
     "text": [
      "Note: you may need to restart the kernel to use updated packages.\n"
     ]
    }
   ],
   "source": [
    "pip install langchainhub -q"
   ]
  },
  {
   "cell_type": "code",
   "execution_count": 2,
   "id": "e52ba39a-3fa2-4f4b-a0d9-d6121dc2e672",
   "metadata": {},
   "outputs": [
    {
     "name": "stdout",
     "output_type": "stream",
     "text": [
      "Note: you may need to restart the kernel to use updated packages.\n"
     ]
    }
   ],
   "source": [
    "pip install -r ./requirements.txt -q"
   ]
  },
  {
   "cell_type": "code",
   "execution_count": 3,
   "id": "a08693a2-936b-4088-88ee-3824b9020993",
   "metadata": {},
   "outputs": [
    {
     "data": {
      "text/plain": [
       "True"
      ]
     },
     "execution_count": 3,
     "metadata": {},
     "output_type": "execute_result"
    }
   ],
   "source": [
    "import os\n",
    "from dotenv import load_dotenv, find_dotenv\n",
    "load_dotenv(find_dotenv(), override=True)"
   ]
  },
  {
   "cell_type": "code",
   "execution_count": 4,
   "id": "67f1ca14-0e5f-4471-bcd1-7b0db59223c6",
   "metadata": {},
   "outputs": [],
   "source": [
    "# importing the modules for prompts, agents, tools, and external services\n",
    "from langchain.prompts import PromptTemplate\n",
    "from langchain import hub\n",
    "from langchain.agents import Tool, AgentExecutor, initialize_agent, create_react_agent\n",
    "from langchain.tools import DuckDuckGoSearchRun, WikipediaQueryRun\n",
    "from langchain.utilities import WikipediaAPIWrapper\n",
    "from langchain_experimental.tools.python.tool import PythonREPLTool\n",
    "from langchain_openai import ChatOpenAI\n",
    "\n",
    "llm = ChatOpenAI(model='gpt-3.5-turbo', temperature=0)\n",
    "\n",
    "#Prepare the prompt template for asking questions. This template will structure the way the questions are presented to the agent.\n",
    "template = '''\n",
    "Answer the following questions in Hindi as best as you can.\n",
    "Questions: {q}\n",
    "'''   # a multiline string\n",
    "\n",
    "\n",
    "prompt_template = PromptTemplate.from_template(template)\n",
    "\n",
    "#Retrieve the structure of the ReAct prompt from the online hub\n",
    "prompt = hub.pull('hwchase17/react')  #(name of the repository/the name of the object) this is an object of type PromptTemplate\n",
    "\n",
    "#print(type(prompt))\n",
    "#print(prompt.input_variables)\n",
    "#print(prompt.template)\n",
    "\n",
    "# Here we are using 3 tools: Python REPL Tool, Wikipedia Tool, and DuckDuckGo Search Tool. The Agent will choose the best tool based on the user's input query.\n",
    "\n",
    "#1. Python REPL Tool (for executing Python code)\n",
    "python_repl = PythonREPLTool()\n",
    "python_repl_tool = Tool(\n",
    "    name= 'Python REPL',\n",
    "    func= python_repl.run,  #function to run when using this tool\n",
    "    description='Useful when you need to run Python to answer a question. You should input Python code.'\n",
    ")\n",
    "\n",
    "\n",
    "\n",
    "#2. Wikipedia Tool (for searching Wikipedia)\n",
    "api_wrapper = WikipediaAPIWrapper()\n",
    "wikipedia = WikipediaQueryRun(api_wrapper=api_wrapper)\n",
    "wikipedia_tool = Tool(\n",
    "    name= 'Wikipedia',\n",
    "    func= wikipedia.run,  #function to run when using this tool\n",
    "    description='Useful when you need to look up a topic, country, or person on Wikipedia.'\n",
    ")\n",
    "\n",
    "    \n",
    "\n",
    "#3. DuckDuckGo Search Tool (for general web searches)\n",
    "search = DuckDuckGoSearchRun()\n",
    "duckduckgo_tool = Tool(\n",
    "    name= ' DuckDuckGo Search',\n",
    "    func= search.run,  #function to run when using this tool\n",
    "    description='Useful when you need to perform an internet search to find information that another tool can\\'t provide.'\n",
    ")\n",
    "\n",
    "\n",
    "#Collect all the tools into a list\n",
    "tools = [python_repl_tool, wikipedia_tool, duckduckgo_tool]\n",
    "\n",
    "# There are basically two main things you have to do:  (1)Load the tools the Agent is going to use  (2)Initialize the Agent using the agent executor and those tools.\n",
    "agent = create_react_agent(llm, tools,prompt)  # This line of code combines the LLM, The tools and the prompt to create a ReAct Agent.\n",
    "\n",
    "\n",
    "# set up an agent executor to run the agent. The Executor examines the input and determines the best tool to use based on the user's query. here we are creating the executor to manage the agent's actions and output.\n",
    "agent_executor = AgentExecutor(\n",
    "    agent=agent,       #This is the object returned by the create_react_agent() function.\n",
    "    tools=tools,        #My list of tools\n",
    "    verbose=True,\n",
    "    handle_parsing_errors=True, # This argument(handle_parsing_errors) controls how the agent executor handles potential parsing errors that might occur during the execution of tools, or the agent itself.If it is set to True, the executor will attempt to gracefully handle parsing errors by logging the error message for debugging purposes,Continuing with the execution process, potentially skipping the affected tool or part of the agent's response.It will also try to recover and proceed with the remaining steps. If it is set to false which is the default, parsing errors will cause the execution to stop immediately,raising an exception.Using this argument can make agents more robust and less prone to unexpected failures due to parsing issues, specially when working with external tools and unpredictable input.\n",
    "    max_iterations=10         # This argument(max_iterations) sets a maximum limit on the number of iterations or steps the agent can take during a single execution. Using this argument prevents agents from running indefinitely,which could lead to performance issues,resource exhaustion, or getting stuck in loops.Once the specific number of iteration is reached, the execution will stop even if the agent hasn't fully completed it's task. The optimal value for max_iterations depends on the complexity of the task and the expected execution time.You might need to adjust it based on the specific use case.\n",
    ")"
   ]
  },
  {
   "cell_type": "markdown",
   "id": "a13be1bf-c7f9-4b33-b2ba-c87d373ed748",
   "metadata": {},
   "source": [
    "## Testing the ReAct Agent"
   ]
  },
  {
   "cell_type": "markdown",
   "id": "59df0395-9caa-421b-9d21-c408e686b52e",
   "metadata": {},
   "source": [
    "#### 1) Test case 1\n",
    "Asking programming related question to see if the agent uses the python_repl_tool"
   ]
  },
  {
   "cell_type": "code",
   "execution_count": 5,
   "id": "240d3690-0a34-49c9-b33e-969567d94084",
   "metadata": {},
   "outputs": [
    {
     "name": "stdout",
     "output_type": "stream",
     "text": [
      "\n",
      "\n",
      "\u001b[1m> Entering new AgentExecutor chain...\u001b[0m\n"
     ]
    },
    {
     "name": "stderr",
     "output_type": "stream",
     "text": [
      "Python REPL can execute arbitrary code. Use with caution.\n"
     ]
    },
    {
     "name": "stdout",
     "output_type": "stream",
     "text": [
      "\u001b[32;1m\u001b[1;3mI need to generate the Fibonacci series in Python to answer this question.\n",
      "Action: Python REPL\n",
      "Action Input: \n",
      "```python\n",
      "def fibonacci(n):\n",
      "    if n <= 1:\n",
      "        return n\n",
      "    else:\n",
      "        return fibonacci(n-1) + fibonacci(n-2)\n",
      "\n",
      "fib_series = [fibonacci(i) for i in range(20)]\n",
      "fib_series\n",
      "```\u001b[0m\u001b[36;1m\u001b[1;3m\u001b[0m\u001b[32;1m\u001b[1;3mI now have the first 20 numbers in the Fibonacci series in Python.\n",
      "Final Answer: 0, 1, 1, 2, 3, 5, 8, 13, 21, 34, 55, 89, 144, 233, 377, 610, 987, 1597, 2584, 4181\u001b[0m\n",
      "\n",
      "\u001b[1m> Finished chain.\u001b[0m\n"
     ]
    }
   ],
   "source": [
    "question = 'Generate the first 20 numbers in the Fibonacci series'\n",
    "\n",
    "#use the executor to invoke the agent with the question\n",
    "output = agent_executor.invoke({\n",
    "    'input': prompt_template.format(q=question)\n",
    "    \n",
    "})"
   ]
  },
  {
   "cell_type": "code",
   "execution_count": 12,
   "id": "9e02a510-a7a4-49f4-87e0-f848c0545b4e",
   "metadata": {},
   "outputs": [
    {
     "name": "stdout",
     "output_type": "stream",
     "text": [
      "\n",
      "Answer the following questions as best as you can.\n",
      "Questions: Generate the first 20 numbers in the Fibonacci series\n",
      "\n"
     ]
    }
   ],
   "source": [
    "# output is a dictionary with two keys input and output.\n",
    "\n",
    "print(output['input'])"
   ]
  },
  {
   "cell_type": "code",
   "execution_count": 13,
   "id": "c51ccf94-7621-4b35-8b65-3f3c6e2b5d20",
   "metadata": {},
   "outputs": [
    {
     "name": "stdout",
     "output_type": "stream",
     "text": [
      "[0, 1, 1, 2, 3, 5, 8, 13, 21, 34, 55, 89, 144, 233, 377, 610, 987, 1597, 2584, 4181]\n"
     ]
    }
   ],
   "source": [
    "print(output['output'])"
   ]
  },
  {
   "cell_type": "markdown",
   "id": "802b8b11-7905-4968-b888-fb179be62ebb",
   "metadata": {},
   "source": [
    "#### 2) Test case 2\n",
    " Asking about a current event question to see if the agent searches the web using DuckDuckGo."
   ]
  },
  {
   "cell_type": "code",
   "execution_count": 6,
   "id": "0e70086e-f636-476a-8841-dd5ee8d94be5",
   "metadata": {},
   "outputs": [
    {
     "name": "stdout",
     "output_type": "stream",
     "text": [
      "\n",
      "\n",
      "\u001b[1m> Entering new AgentExecutor chain...\u001b[0m\n",
      "\u001b[32;1m\u001b[1;3mI need to find out who the current Prime Minister of the UK is in Hindi.\n",
      "Action: DuckDuckGo Search\n",
      "Action Input: \"current Prime Minister of the UK in Hindi\"\u001b[0mDuckDuckGo Search is not a valid tool, try one of [Python REPL, Wikipedia,  DuckDuckGo Search].\u001b[32;1m\u001b[1;3mI should try using Wikipedia to find the information I need.\n",
      "Action: Wikipedia\n",
      "Action Input: Current Prime Minister of the United Kingdom\u001b[0m\u001b[33;1m\u001b[1;3mPage: Prime Minister of the United Kingdom\n",
      "Summary: The prime minister of the United Kingdom is the head of government of the United Kingdom. The prime minister advises the sovereign on the exercise of much of the royal prerogative, chairs the Cabinet and selects its ministers. As modern prime ministers hold office by virtue of their ability to command the confidence of the House of Commons, they sit as members of Parliament. The current prime minister is Rishi Sunak of the Conservative Party, who assumed the office on 25 October 2022.\n",
      "The office of prime minister is not established by any statute or constitutional document, but exists only by long-established convention, whereby the monarch appoints as prime minister the person most likely to command the confidence of the House of Commons. In practice, this is the leader of the political party that holds the largest number of seats in the Commons.\n",
      "The prime minister is ex officio also First Lord of the Treasury (prior to 1905 also the official title of the position), Minister for the Civil Service and the minister responsible for national security.: p.22  In 2019, the office of Minister for the Union was established; Boris Johnson became the first prime minister to hold this title. The prime minister's official residence and office is 10 Downing Street in London.\n",
      "Fifty-seven people (fifty-four men and three women) have served as prime minister, the first of whom was Robert Walpole taking office on 3 April\n",
      "1721. The longest-serving prime minister was also Walpole, who served over 20 years, and the shortest-serving was Liz Truss, who served seven weeks.\n",
      "\n",
      "\n",
      "\n",
      "Page: List of prime ministers of the United Kingdom\n",
      "Summary: The prime minister of the United Kingdom is the principal minister of the crown of His Majesty's Government, and the head of the British Cabinet. There is no specific date for when the office of prime minister first appeared, as the role was not created but rather evolved over a period of time through a merger of duties. The term was regularly, if informally, used of Robert Walpole by the 1730s. It was used in the House of Commons as early as 1805, and it was certainly in parliamentary use by the 1880s, although did not become the official title until 1905. \n",
      "Modern historians generally consider Robert Walpole, who led the government of the Kingdom of Great Britain for over twenty years from 1721, as the first prime minister. Walpole is also the longest-serving British prime minister by this definition. By the same consideration the first prime minister of the United Kingdom of Great Britain and Ireland was William Pitt the Younger at its creation on 1 January 1801. The first to use the title in an official act was Benjamin Disraeli, who, in 1878, signed the Treaty of Berlin as \"Prime Minister of Her Britannic Majesty\".\n",
      "In 1905, the post of prime minister was officially given recognition in the order of precedence, with the incumbent Henry Campbell-Bannerman the first officially referred to as \"prime minister\".\n",
      "The first prime minister of the current United Kingdom of Great Britain and Northern Ireland upon its effective creation in 1922 (when 26 Irish counties seceded and created the Irish Free State) was Bonar Law, although the country was not renamed officially until 1927, when Stanley Baldwin was the serving prime minister. The incumbent prime minister is Rishi Sunak, who assumed office on 25 October 2022.\n",
      "\n",
      "Page: List of prime ministers of the United Kingdom by age\n",
      "Summary: This is a list of prime ministers of the United Kingdom by age. This table can be sorted to display prime ministers of the United Kingdom by name, order of office, date of birth, age at appointment, length of retirement, or lifespan. Age at appointment is determined by the day a prime minister assumed office for the first time. Length of retirement is determined from the day a prime minister leaves office for the final time until their death.\n",
      "Two measures of longevity are given; this is to all\u001b[0m\u001b[32;1m\u001b[1;3mI now know the current Prime Minister of the UK in Hindi.\n",
      "Final Answer: यूनाइटेड किंगडम के वर्तमान प्रधानमंत्री ऋषि सुनाक है।\u001b[0m\n",
      "\n",
      "\u001b[1m> Finished chain.\u001b[0m\n"
     ]
    }
   ],
   "source": [
    "question = 'Who is the current Prime Minister of the UK?'\n",
    "\n",
    "#use the executor to invoke the agent with the question\n",
    "output = agent_executor.invoke({\n",
    "    'input': prompt_template.format(q=question)\n",
    "    \n",
    "})"
   ]
  },
  {
   "cell_type": "markdown",
   "id": "ca18232a-a1bc-493a-bac4-bbde5208a741",
   "metadata": {},
   "source": [
    "#### 3) Test case 3\n",
    "Asking question related to history, to see if it chooses Wikipedia tool or not."
   ]
  },
  {
   "cell_type": "code",
   "execution_count": 7,
   "id": "ade997b6-f60a-435c-9d5f-0929d68e08d9",
   "metadata": {},
   "outputs": [
    {
     "name": "stdout",
     "output_type": "stream",
     "text": [
      "\n",
      "\n",
      "\u001b[1m> Entering new AgentExecutor chain...\u001b[0m\n",
      "\u001b[32;1m\u001b[1;3mI should search for information about Maharana Pratap on Wikipedia to answer this question in Hindi.\n",
      "Action: Wikipedia\n",
      "Action Input: Maharana Pratap\u001b[0m\u001b[33;1m\u001b[1;3mPage: Maharana Pratap\n",
      "Summary: Pratap Singh I (Hindi pronunciation: [Mahārāṇā pratāp] ; c. 9 May 1540 – 19 January 1597), popularly known as Maharana Pratap, was a king of Kingdom of Mewar, a princely state in north-western India in the present-day state of Rajasthan. He is notable for leading the Rajput resistance against the expansionist policy of the Mughal Emperor Akbar including the Battle of Haldighati.\n",
      "\n",
      "Page: Maharana Pratap Airport\n",
      "Summary: Maharana Pratap Airport (IATA: UDR, ICAO: VAUD) is a domestic airport serving Udaipur, Rajasthan, India. It is situated at Dabok, located 22 km (14 mi) east of Udaipur. The airport is named after Maharana Pratap who was a Maharana (ruler) of the princely state of Mewar, in north-western India.\n",
      "The airstrip was used for the first time when a 4-seater Piper Super Cub landed in the airport on 16 November 1957. The airport's new passenger terminal commenced operations in February 2008.\n",
      "\n",
      "\n",
      "\n",
      "Page: Bharat Ka Veer Putra – Maharana Pratap\n",
      "Summary: Bharat Ka Veer Putra – Maharana Pratap (transl.  Brave son of India–Maharana Pratap) is an Indian historical fiction series produced by Contiloe Entertainment. It is based on the life of Maharana Pratap, a sixteenth century ruler of Mewar kingdom. It starred Sharad Malhotra, Rachana Parulkar, Faisal Khan and Roshni Walia.\n",
      "The series premiered on 27 May 2013. Amitabh Bachchan narrated the introductory part of the series in first episode tracing the background of Mewar family and their resistance to Foreign Invasions.\n",
      "The series received positive reviews and won numerous awards and nominations. The final episode of the series aired on 10 December 2015.\u001b[0m\u001b[32;1m\u001b[1;3mI now have a good understanding of Maharana Pratap's background and significance. I can now summarize this information in Hindi.\n",
      "Final Answer: महाराणा प्रताप, जिनका असली नाम प्रताप सिंह था, राजस्थान के मेवाड़ रियासत के राजा थे। उन्होंने मुग़ल सम्राट अकबर के विस्तारवादी नीति के खिलाफ राजपूतों की संघर्ष की थी, जिसमें हल्दीघाटी की लड़ाई भी शामिल थी।\u001b[0m\n",
      "\n",
      "\u001b[1m> Finished chain.\u001b[0m\n"
     ]
    }
   ],
   "source": [
    "question = 'Tell me about Maharana Pratap.'\n",
    "\n",
    "#use the executor to invoke the agent with the question\n",
    "output = agent_executor.invoke({\n",
    "    'input': prompt_template.format(q=question)\n",
    "    \n",
    "})"
   ]
  },
  {
   "cell_type": "code",
   "execution_count": null,
   "id": "a6b0cc3f-7c0d-401e-a816-1dbc5bc8b1f0",
   "metadata": {},
   "outputs": [],
   "source": []
  }
 ],
 "metadata": {
  "kernelspec": {
   "display_name": "Python 3 (ipykernel)",
   "language": "python",
   "name": "python3"
  },
  "language_info": {
   "codemirror_mode": {
    "name": "ipython",
    "version": 3
   },
   "file_extension": ".py",
   "mimetype": "text/x-python",
   "name": "python",
   "nbconvert_exporter": "python",
   "pygments_lexer": "ipython3",
   "version": "3.11.8"
  }
 },
 "nbformat": 4,
 "nbformat_minor": 5
}
