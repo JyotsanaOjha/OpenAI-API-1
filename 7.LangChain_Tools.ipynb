{
 "cells": [
  {
   "cell_type": "markdown",
   "id": "e81a7d02-8350-49db-b008-12e50e75d265",
   "metadata": {},
   "source": [
    "# LangChain Tools"
   ]
  },
  {
   "cell_type": "markdown",
   "id": "c5b73e2c-5fb9-433c-a05d-1bf9ae7a1452",
   "metadata": {},
   "source": [
    "**LangChain Tools** are like specialized apps for your LLM. They are tiny code modules that allow it to access information and services.\n",
    "\n",
    "These **tools connect your LLM** to search engines, databases, APIs, and more, expanding its knowledge and capabilities.\n",
    "\n",
    "Tools are essentially functions that agents can use to interact with the outside world. These can range from general utilities, such as a math calculator or a search function, to other chains or even other agents. Use-case examples: if our AI needs real-time weather updates / search Wikipedia / translate languages..... etc.. It can use these tools to get the job done.\n",
    "\n",
    "Examples of some useful tools:\n",
    "1)PythonREPLTool: This tool provides a Python REPL environment within LangChain allowing the agent to execute Python code directly.\n",
    "\n",
    "2)Search tools(Google Search, DuckDuckGo, Tavily AI) Tavily AI is optimized for LLMs and provides an API for AI developers"
   ]
  },
  {
   "cell_type": "markdown",
   "id": "57d8f9d3-73bf-43b1-b472-34eac56ac967",
   "metadata": {},
   "source": [
    "## LangChain Tools : DuckDuckGo and Wikipedia"
   ]
  },
  {
   "cell_type": "code",
   "execution_count": 3,
   "id": "926d34b7-b97f-47c9-8a4e-221b598e9842",
   "metadata": {},
   "outputs": [
    {
     "name": "stdout",
     "output_type": "stream",
     "text": [
      "Note: you may need to restart the kernel to use updated packages.\n"
     ]
    }
   ],
   "source": [
    "pip install -q duckduckgo-search"
   ]
  },
  {
   "cell_type": "code",
   "execution_count": 4,
   "id": "db899719-248a-4981-8b77-7404b640e127",
   "metadata": {},
   "outputs": [
    {
     "name": "stdout",
     "output_type": "stream",
     "text": [
      "Note: you may need to restart the kernel to use updated packages.\n"
     ]
    }
   ],
   "source": [
    "pip install -r ./requirements.txt -q"
   ]
  },
  {
   "cell_type": "code",
   "execution_count": 5,
   "id": "f1216f14-51bc-43fe-bbe5-7ab81a93fdf3",
   "metadata": {},
   "outputs": [
    {
     "data": {
      "text/plain": [
       "True"
      ]
     },
     "execution_count": 5,
     "metadata": {},
     "output_type": "execute_result"
    }
   ],
   "source": [
    "import os\n",
    "from dotenv import load_dotenv, find_dotenv\n",
    "load_dotenv(find_dotenv(), override=True)"
   ]
  },
  {
   "cell_type": "markdown",
   "id": "531b7b0b-5b91-43c0-9bb1-b05f1372c239",
   "metadata": {},
   "source": [
    "### DuckDuckGoSearchRun"
   ]
  },
  {
   "cell_type": "code",
   "execution_count": 18,
   "id": "3028c4e3-d1dc-4616-b869-84b9f09db901",
   "metadata": {},
   "outputs": [
    {
     "name": "stdout",
     "output_type": "stream",
     "text": [
      "A.P.J. Abdul Kalam (born October 15, 1931, Rameswaram, India—died July 27, 2015, Shillong) Indian scientist and politician who played a leading role in the development of India's missile and nuclear weapons programs. He was president of India from 2002 to 2007.. Kalam earned a degree in aeronautical engineering from the Madras Institute of Technology and in 1958 joined the Defence Research ... APJ Abdul Kalam, the \"Missile Man of India,\" 🚀 was a visionary scientist and the 11th President of India. Born on October 15, 1931, in Rameswaram, Tamil Nad... A.P.J. Abdul Kalam was an Indian scientist and politician who served his country as president from 2002 to 2007. ... Avul Pakir Jainulabdeen Abdul Kalam was born into a Muslim family on October 15 ... 10 shares. Avul Pakir Jainulabdeen Abdul Kalam, commonly known as APJ Abdul Kalam, the 11th president of independent India was born on October 15, 1931, in Rameswaram, India. He was born into a poor family and to feed his family he began working from a young age. Kalam sir played a crucial role in the development of missile and nuclear weapons ... DR. A.P.J. Abdul Kalam. Born on 15th October 1931 at Rameswaram in Tamil Nadu, Dr. Avul Pakir Jainulabdeen Abdul Kalam, specialized in Aeronautical Engineering from Madras Institute of Technology. Dr. Kalam made significant contribution as Project Director to develop India's first indigenous Satellite Launch Vehicle (SLV-III) which successfully ...\n"
     ]
    }
   ],
   "source": [
    "from langchain.tools import DuckDuckGoSearchRun\n",
    "\n",
    "search= DuckDuckGoSearchRun()\n",
    "output = search.invoke('Where was APJ Abdul Kalam born?')\n",
    "print(output)\n",
    "\n",
    "# It gives a warning, that is about running DuckDuckGo in the asynchronous mode."
   ]
  },
  {
   "cell_type": "markdown",
   "id": "65f15c74-2790-43a6-b0b5-6726119fe68b",
   "metadata": {},
   "source": [
    "The tool has some attributes that can be printed using the dot notation:\n",
    "\n",
    "  **search.name** will print the name of the tool\n",
    "  \n",
    "  **search.description** will print its descriptions\n",
    "\n",
    "  To get more additional information import and use **DuckDuckGoSearchResults** class"
   ]
  },
  {
   "cell_type": "code",
   "execution_count": 8,
   "id": "1c627884-3751-4306-a65a-d668ccdd46b0",
   "metadata": {},
   "outputs": [
    {
     "data": {
      "text/plain": [
       "'duckduckgo_search'"
      ]
     },
     "execution_count": 8,
     "metadata": {},
     "output_type": "execute_result"
    }
   ],
   "source": [
    "search.name"
   ]
  },
  {
   "cell_type": "code",
   "execution_count": 9,
   "id": "fbff24ca-e5f8-49c3-9cd8-3b0abd0d4ca9",
   "metadata": {},
   "outputs": [
    {
     "data": {
      "text/plain": [
       "'A wrapper around DuckDuckGo Search. Useful for when you need to answer questions about current events. Input should be a search query.'"
      ]
     },
     "execution_count": 9,
     "metadata": {},
     "output_type": "execute_result"
    }
   ],
   "source": [
    "search.description"
   ]
  },
  {
   "cell_type": "markdown",
   "id": "ff2d335e-b5a0-49f9-b0ab-62653b52f5c0",
   "metadata": {},
   "source": [
    "### DuckDuckGoSearchResults \n",
    "To get more additional information"
   ]
  },
  {
   "cell_type": "code",
   "execution_count": 17,
   "id": "2b9b5a21-359b-45aa-8e23-b1edeea2714f",
   "metadata": {},
   "outputs": [
    {
     "name": "stdout",
     "output_type": "stream",
     "text": [
      "[snippet: A.P.J. Abdul Kalam (born October 15, 1931, Rameswaram, India—died July 27, 2015, Shillong) Indian scientist and politician who played a leading role in the development of India's missile and nuclear weapons programs. He was president of India from 2002 to 2007.. Kalam earned a degree in aeronautical engineering from the Madras Institute of Technology and in 1958 joined the Defence Research ..., title: A.P.J. Abdul Kalam | Biography, History, Books, Thoughts, Awards ..., link: https://www.britannica.com/biography/A-P-J-Abdul-Kalam], [snippet: Learn about the life and achievements of A.P.J. Abdul Kalam, an aerospace scientist who led India's nuclear and space programs and became its 11th president. Find out how he died, what awards he received and what legacy he left behind., title: A.P.J. Abdul Kalam: Biography, Scientist, President of India, link: https://www.biography.com/political-figures/a45972597/apj-abdul-kalam], [snippet: DR. A.P.J. Abdul Kalam. Born on 15th October 1931 at Rameswaram in Tamil Nadu, Dr. Avul Pakir Jainulabdeen Abdul Kalam, specialized in Aeronautical Engineering from Madras Institute of Technology. Dr. Kalam made significant contribution as Project Director to develop India's first indigenous Satellite Launch Vehicle (SLV-III) which successfully ..., title: Home | 11th Former President of India, link: https://www.presidentofindia.gov.in/abdulkalam/], [snippet: He has been awarded the coveted civilian awards - Padma Bhushan (1981) and Padma Vibhushan (1990) and the highest civilian award Bharat Ratna (1997). He is a recipient of several other awards and Fellow of many professional institutions. Dr. Kalam became the 11th President of India on 25th July 2002. His focus is on transforming India into a ..., title: Profile | 11th Former President of India, link: https://www.presidentofindia.gov.in/abdulkalam/profile]\n"
     ]
    }
   ],
   "source": [
    "from langchain.tools import DuckDuckGoSearchResults\n",
    "search = DuckDuckGoSearchResults()\n",
    "\n",
    "output = search.run('APJ Abdul Kalam')\n",
    "print(output) # output is a string representation of a list of dictionaries with the following keys: 1)snippet(the description of the request) 2)title(the title of the request) 3) link(the link to the request)"
   ]
  },
  {
   "cell_type": "markdown",
   "id": "56556ecd-0429-4445-a7de-80d85edf149d",
   "metadata": {},
   "source": [
    "### DuckDuckGoSearchAPIWrapper"
   ]
  },
  {
   "cell_type": "markdown",
   "id": "6d3ea90c-8740-4b63-a886-a0ca171cc74e",
   "metadata": {},
   "source": [
    "If you want to have much more control over the search results, you can directly pass a custom DuckDuckGoSearchAPIWrapper to DuckDuckGoSearchResults."
   ]
  },
  {
   "cell_type": "code",
   "execution_count": 21,
   "id": "2af843ba-16bd-4cb6-a90f-d614b6231410",
   "metadata": {},
   "outputs": [
    {
     "name": "stdout",
     "output_type": "stream",
     "text": [
      "[snippet: Berlin is situated about 112 miles (180 km) south of the Baltic Sea, 118 miles (190 km) north of the Czech-German border, 110 miles (177 km) east of the former inner-German border, and 55 miles (89 km) west of Poland.It lies in the wide glacial valley of the Spree River, which runs through the centre of the city.The mean elevation of Berlin is 115 feet (35 metres) above sea level., title: Berlin | History, Map, Population, Attractions, & Facts, link: https://www.britannica.com/place/Berlin], [snippet: Potsdam (23 miles away): The summer home of Frederick the Great, former King of Prussia, Potsdam is home to historic palaces and parks. Spreewald (61 miles away): This idyllic forest in Germany ..., title: 20 Best Things to Do in Berlin, Germany | U.S. News Travel, link: https://travel.usnews.com/Berlin_Germany/Things_To_Do/], [snippet: Discover Berlin's culture, history, nightlife and nature with this guide to the top attractions. From Museum Island to the Berlin Wall, from clubs to parks, find out what makes the German capital so vibrant and diverse., title: 14 of the best things to do in Berlin - Lonely Planet, link: https://www.lonelyplanet.com/articles/best-things-to-do-in-berlin], [snippet: Prater Garten. $. Prater Garden, Berlin's oldest biergarten, comprises almost a full acre of communal tables and benches. Although Germany's capital city doesn't have the biergarten culture of ..., title: 18 Best Things to Do in Berlin | Condé Nast Traveler, link: https://www.cntraveler.com/gallery/best-things-to-do-in-berlin]\n"
     ]
    }
   ],
   "source": [
    "from langchain_community.utilities import DuckDuckGoSearchAPIWrapper\n",
    "\n",
    "wrapper = DuckDuckGoSearchAPIWrapper(region='de-de', max_results=3, safesearch='moderate')\n",
    "search = DuckDuckGoSearchResults(api_wrapper=wrapper, source='news')\n",
    "output= search.run('Berlin') \n",
    "print(output)"
   ]
  },
  {
   "cell_type": "markdown",
   "id": "7fca2508-e124-4e91-b53a-d4aa066ee1a7",
   "metadata": {},
   "source": [
    "#### Note: To display the output in a more user-friendly way\n",
    "To display the output in a more user-friendly way use regular expression to extract the snippet, the link, and the title."
   ]
  },
  {
   "cell_type": "code",
   "execution_count": 22,
   "id": "5513b7b6-5458-4d63-87f7-c8f4856bf657",
   "metadata": {},
   "outputs": [
    {
     "name": "stdout",
     "output_type": "stream",
     "text": [
      "Snippet: Berlin is situated about 112 miles (180 km) south of the Baltic Sea, 118 miles (190 km) north of the Czech-German border, 110 miles (177 km) east of the former inner-German border, and 55 miles (89 km) west of Poland.It lies in the wide glacial valley of the Spree River, which runs through the centre of the city.The mean elevation of Berlin is 115 feet (35 metres) above sea level.\n",
      "Title: Berlin | History, Map, Population, Attractions, & Facts\n",
      "Link: \n",
      "\n",
      "--------------------------------------------------\n",
      "Snippet: Potsdam (23 miles away): The summer home of Frederick the Great, former King of Prussia, Potsdam is home to historic palaces and parks. Spreewald (61 miles away): This idyllic forest in Germany ...\n",
      "Title: 20 Best Things to Do in Berlin, Germany | U.S. News Travel\n",
      "Link: \n",
      "\n",
      "--------------------------------------------------\n",
      "Snippet: Discover Berlin's culture, history, nightlife and nature with this guide to the top attractions. From Museum Island to the Berlin Wall, from clubs to parks, find out what makes the German capital so vibrant and diverse.\n",
      "Title: 14 of the best things to do in Berlin - Lonely Planet\n",
      "Link: \n",
      "\n",
      "--------------------------------------------------\n",
      "Snippet: Prater Garten. $. Prater Garden, Berlin's oldest biergarten, comprises almost a full acre of communal tables and benches. Although Germany's capital city doesn't have the biergarten culture of ...\n",
      "Title: 18 Best Things to Do in Berlin | Condé Nast Traveler\n",
      "Link: \n",
      "\n",
      "--------------------------------------------------\n"
     ]
    }
   ],
   "source": [
    "import re\n",
    "\n",
    "#define the pattern for the regular expression\n",
    "pattern = r'snippet: (.*?), title: (.*?), link: (.*?)'\n",
    "\n",
    "# call the findall() function to find all matches of the pattern in the string.\n",
    "# re.DOTALL flag is used so that the dot character matches any character, including a new line.\n",
    "matches = re.findall(pattern, output, re.DOTALL)\n",
    "\n",
    "\n",
    "# Now loop through the matches for snippet, title and link in matches. Each match is a tuple containing the snippet, the title, and the link.\n",
    "#unpack the tuple into variables and also print a separator for readability.\n",
    "for snippet, title, link in matches:\n",
    "    print(f'Snippet: {snippet}\\nTitle: {title}\\nLink: {link}\\n')\n",
    "    print('-'*50)\n",
    "\n"
   ]
  },
  {
   "cell_type": "code",
   "execution_count": null,
   "id": "295d46e7-a663-4975-a3d7-0997d813fc66",
   "metadata": {},
   "outputs": [],
   "source": []
  },
  {
   "cell_type": "markdown",
   "id": "5aabee30-6737-4057-a2b2-818a0b47eac7",
   "metadata": {},
   "source": [
    "#### Note: To get rid of the warnings, do the following"
   ]
  },
  {
   "cell_type": "code",
   "execution_count": 15,
   "id": "6d15c516-c7b0-4722-85d1-f555d4da4d04",
   "metadata": {},
   "outputs": [],
   "source": [
    "import warnings\n",
    "warnings.filterwarnings('ignore')"
   ]
  },
  {
   "cell_type": "markdown",
   "id": "5a560912-ebec-4034-8ae9-278964cfe963",
   "metadata": {},
   "source": [
    "### Wikipedia tool"
   ]
  },
  {
   "cell_type": "code",
   "execution_count": 2,
   "id": "cb5b7427-0c44-420b-824b-8e3c22a0077f",
   "metadata": {},
   "outputs": [
    {
     "name": "stdout",
     "output_type": "stream",
     "text": [
      "Note: you may need to restart the kernel to use updated packages.\n"
     ]
    }
   ],
   "source": [
    "pip install -q wikipedia"
   ]
  },
  {
   "cell_type": "code",
   "execution_count": 3,
   "id": "4a71c348-30cc-46b1-a462-af0f3fd007d5",
   "metadata": {},
   "outputs": [],
   "source": [
    "from langchain_community.tools import WikipediaQueryRun\n",
    "from langchain_community.utilities import WikipediaAPIWrapper"
   ]
  },
  {
   "cell_type": "code",
   "execution_count": 10,
   "id": "25137ed3-b440-487d-8e0d-bc095ad5b215",
   "metadata": {},
   "outputs": [
    {
     "data": {
      "text/plain": [
       "\"Page: India\\nSummary: India, officially the Republic of India (ISO: Bhārat Gaṇarājya), is a country in South Asia.  It is the seventh-largest country by area; the most populous country as of June 2023; and from the time of its independence in 1947, the world's most populous democracy. Bounded by the Indian Ocean on the south, the Arabian Sea on the southwest, and the Bay of Bengal on the southeast, it shares land borders with Pakistan to the west; China, Nepal, and Bhutan to the north; and Bangla\""
      ]
     },
     "execution_count": 10,
     "metadata": {},
     "output_type": "execute_result"
    }
   ],
   "source": [
    "# Here when we initialize the tool, we can configure it as we want\n",
    "api_wrapper = WikipediaAPIWrapper(top_k_results=1, doc_content_chars_max=500)\n",
    "wiki = WikipediaQueryRun(api_wrapper=api_wrapper)\n",
    "wiki.invoke({'query' : 'India'})\n",
    "#wiki.invoke({'query' : 'llamaindex'})\n",
    "# here we call the Wikipedia tool with a dictionary as input. I am using \"llamaindex\" as a prompt.(llamaindex is a data framework that helps build smart applications by connecting LLMs with yout specific information)"
   ]
  },
  {
   "cell_type": "markdown",
   "id": "0c1ed398-76fd-47a4-8c43-b01db44bae3c",
   "metadata": {},
   "source": [
    "Note: we can also call this tool with a string as an argument. as follows:-"
   ]
  },
  {
   "cell_type": "code",
   "execution_count": 11,
   "id": "8a09fdce-8384-4816-b441-09c072bead9d",
   "metadata": {},
   "outputs": [
    {
     "data": {
      "text/plain": [
       "\"Page: Gemini (chatbot)\\nSummary: Gemini, formerly known as Bard, is a generative artificial intelligence chatbot developed by Google. Based on the large language model (LLM) of the same name and developed as a direct response to the meteoric rise of OpenAI's ChatGPT, it was launched in a limited capacity in March 2023 before expanding to other countries in May. It was previously based on PaLM, and initially the LaMDA family of large language models.\\nLaMDA had been developed and announced in 2021,\""
      ]
     },
     "execution_count": 11,
     "metadata": {},
     "output_type": "execute_result"
    }
   ],
   "source": [
    "wiki.invoke('google gemini')"
   ]
  },
  {
   "cell_type": "code",
   "execution_count": null,
   "id": "efdcfaa9-246b-4745-8dbf-c474305d1cdf",
   "metadata": {},
   "outputs": [],
   "source": []
  }
 ],
 "metadata": {
  "kernelspec": {
   "display_name": "Python 3 (ipykernel)",
   "language": "python",
   "name": "python3"
  },
  "language_info": {
   "codemirror_mode": {
    "name": "ipython",
    "version": 3
   },
   "file_extension": ".py",
   "mimetype": "text/x-python",
   "name": "python",
   "nbconvert_exporter": "python",
   "pygments_lexer": "ipython3",
   "version": "3.11.8"
  }
 },
 "nbformat": 4,
 "nbformat_minor": 5
}
